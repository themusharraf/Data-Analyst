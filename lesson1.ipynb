{
 "cells": [
  {
   "cell_type": "code",
   "execution_count": 2,
   "id": "822775d5-1229-4733-b062-c18583dbf0e2",
   "metadata": {
    "ExecuteTime": {
     "end_time": "2023-11-24T10:38:02.009303700Z",
     "start_time": "2023-11-24T10:38:01.972943600Z"
    }
   },
   "outputs": [
    {
     "data": {
      "text/plain": "int"
     },
     "execution_count": 2,
     "metadata": {},
     "output_type": "execute_result"
    }
   ],
   "source": [
    "x = 5\n",
    "type(x)"
   ]
  },
  {
   "cell_type": "code",
   "execution_count": 3,
   "id": "5b99cbc7-fca5-441e-8e7e-d6aec67a4210",
   "metadata": {
    "ExecuteTime": {
     "end_time": "2023-11-24T10:38:02.023576Z",
     "start_time": "2023-11-24T10:38:01.999144900Z"
    }
   },
   "outputs": [
    {
     "data": {
      "text/plain": "int"
     },
     "execution_count": 3,
     "metadata": {},
     "output_type": "execute_result"
    }
   ],
   "source": [
    "x1 = -6\n",
    "type(x)"
   ]
  },
  {
   "cell_type": "code",
   "execution_count": 4,
   "id": "1ac704c0-62ff-4549-96bb-9a5374cb8bf3",
   "metadata": {
    "ExecuteTime": {
     "end_time": "2023-11-24T10:38:02.031141100Z",
     "start_time": "2023-11-24T10:38:02.014430200Z"
    }
   },
   "outputs": [],
   "source": [
    "x2 = 5.7"
   ]
  },
  {
   "cell_type": "code",
   "execution_count": 5,
   "id": "9605dba0-f892-47fc-8951-643bc28e36ca",
   "metadata": {
    "ExecuteTime": {
     "end_time": "2023-11-24T10:38:02.077091400Z",
     "start_time": "2023-11-24T10:38:02.030084500Z"
    }
   },
   "outputs": [
    {
     "data": {
      "text/plain": "float"
     },
     "execution_count": 5,
     "metadata": {},
     "output_type": "execute_result"
    }
   ],
   "source": [
    "type(x2)"
   ]
  },
  {
   "cell_type": "markdown",
   "id": "05f64e1a-93b4-45d2-8055-135c00820b18",
   "metadata": {},
   "source": []
  },
  {
   "cell_type": "raw",
   "id": "e8267b11-d45a-4592-89e4-8cb3c6ac2267",
   "metadata": {},
   "source": []
  }
 ],
 "metadata": {
  "kernelspec": {
   "display_name": "Python 3 (ipykernel)",
   "language": "python",
   "name": "python3"
  },
  "language_info": {
   "codemirror_mode": {
    "name": "ipython",
    "version": 3
   },
   "file_extension": ".py",
   "mimetype": "text/x-python",
   "name": "python",
   "nbconvert_exporter": "python",
   "pygments_lexer": "ipython3",
   "version": "3.9.13"
  },
  "widgets": {
   "application/vnd.jupyter.widget-state+json": {
    "state": {},
    "version_major": 2,
    "version_minor": 0
   }
  }
 },
 "nbformat": 4,
 "nbformat_minor": 5
}
