{
 "cells": [
  {
   "cell_type": "code",
   "execution_count": 1,
   "id": "f6447648-b9e6-4b33-9afc-766eb6d18cd3",
   "metadata": {
    "ExecuteTime": {
     "end_time": "2023-12-04T18:56:36.305656600Z",
     "start_time": "2023-12-04T18:56:36.285279Z"
    }
   },
   "outputs": [],
   "source": [
    "# NumPy kutubxonasini chaqirib olamiz "
   ]
  },
  {
   "cell_type": "code",
   "execution_count": 2,
   "id": "08a7fccd-712c-42a9-88be-dee1db158b47",
   "metadata": {
    "ExecuteTime": {
     "end_time": "2023-12-04T18:56:36.740582800Z",
     "start_time": "2023-12-04T18:56:36.729096100Z"
    }
   },
   "outputs": [],
   "source": []
  },
  {
   "cell_type": "code",
   "execution_count": 7,
   "id": "4fdbaf01-e0da-4be8-b3af-d73eea25d0e6",
   "metadata": {
    "ExecuteTime": {
     "end_time": "2023-12-04T18:56:38.210717500Z",
     "start_time": "2023-12-04T18:56:38.190286800Z"
    }
   },
   "outputs": [
    {
     "name": "stdout",
     "output_type": "stream",
     "text": [
      "[    0     1     2 ... 99997 99998 99999]\n"
     ]
    }
   ],
   "source": [
    "import numpy as np\n",
    "mylist = list(range(100_000)) # pyhton list 0~99999 --> Normal\n",
    "myarray = np.array(range(100_000)) # numpy array (massiv) 0~99999 --> Vektorlashgan\n",
    "print(myarray)"
   ]
  },
  {
   "cell_type": "code",
   "execution_count": null,
   "id": "650b1f76-8d1a-4f84-bcb0-074d26cbce6d",
   "metadata": {},
   "outputs": [],
   "source": []
  }
 ],
 "metadata": {
  "kernelspec": {
   "display_name": "Python 3 (ipykernel)",
   "language": "python",
   "name": "python3"
  },
  "language_info": {
   "codemirror_mode": {
    "name": "ipython",
    "version": 3
   },
   "file_extension": ".py",
   "mimetype": "text/x-python",
   "name": "python",
   "nbconvert_exporter": "python",
   "pygments_lexer": "ipython3",
   "version": "3.9.13"
  },
  "widgets": {
   "application/vnd.jupyter.widget-state+json": {
    "state": {},
    "version_major": 2,
    "version_minor": 0
   }
  }
 },
 "nbformat": 4,
 "nbformat_minor": 5
}
