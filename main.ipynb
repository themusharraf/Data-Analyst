{
 "cells": [
  {
   "cell_type": "code",
   "execution_count": 1,
   "id": "a105677a-49e4-4ddf-8878-2175cb9acae5",
   "metadata": {},
   "outputs": [],
   "source": [
    "import pandas as pd"
   ]
  },
  {
   "cell_type": "code",
   "execution_count": 2,
   "id": "285f4573-5507-4b92-acac-2f1abcc5c82f",
   "metadata": {},
   "outputs": [
    {
     "name": "stdout",
     "output_type": "stream",
     "text": [
      "2.1.4\n"
     ]
    }
   ],
   "source": [
    "print(pd.__version__)"
   ]
  },
  {
   "cell_type": "code",
   "execution_count": 3,
   "id": "a8d11c8d-bca2-45d1-8db2-a97be37c9372",
   "metadata": {},
   "outputs": [
    {
     "data": {
      "text/plain": [
       "['A', 'B', 'C', 'D']"
      ]
     },
     "execution_count": 3,
     "metadata": {},
     "output_type": "execute_result"
    }
   ],
   "source": [
    "products = ['A','B','C','D']\n",
    "products"
   ]
  },
  {
   "cell_type": "code",
   "execution_count": 4,
   "id": "829a9439-8257-4d10-be5d-fe7b60519c3d",
   "metadata": {},
   "outputs": [],
   "source": [
    "# Ma'lumot turni tekshirish uchun"
   ]
  },
  {
   "cell_type": "code",
   "execution_count": 5,
   "id": "26abf583-7003-4bd2-a3c6-515a15cdbd94",
   "metadata": {},
   "outputs": [
    {
     "data": {
      "text/plain": [
       "list"
      ]
     },
     "execution_count": 5,
     "metadata": {},
     "output_type": "execute_result"
    }
   ],
   "source": [
    "type(products)"
   ]
  },
  {
   "cell_type": "code",
   "execution_count": 6,
   "id": "771bf4b2-33be-446f-aa99-6882d7a99cba",
   "metadata": {},
   "outputs": [],
   "source": [
    "# Pandas Series:\n",
    "#  bu har qanday turdagi ma'lumotlarni \n",
    "# (butun son, satr, float, python ob'ektlari va boshqalar)\n",
    "#  saqlashga qodir bo'lgan bir o'lchovli etiketli massiv."
   ]
  },
  {
   "cell_type": "code",
   "execution_count": 7,
   "id": "abf66261-b42f-4028-b121-b696921155ca",
   "metadata": {},
   "outputs": [],
   "source": [
    "# Ma'lumot ni qataor series ga o'tkazish"
   ]
  },
  {
   "cell_type": "code",
   "execution_count": 8,
   "id": "3d2a61c0-8385-45ab-aa00-455fb142873e",
   "metadata": {},
   "outputs": [],
   "source": [
    "product_cat=pd.Series(products)"
   ]
  },
  {
   "cell_type": "code",
   "execution_count": 9,
   "id": "75bce936-785c-4333-b821-3effc1c2a66e",
   "metadata": {},
   "outputs": [
    {
     "data": {
      "text/plain": [
       "0    A\n",
       "1    B\n",
       "2    C\n",
       "3    D\n",
       "dtype: object"
      ]
     },
     "execution_count": 9,
     "metadata": {},
     "output_type": "execute_result"
    }
   ],
   "source": [
    "product_cat"
   ]
  },
  {
   "cell_type": "code",
   "execution_count": 10,
   "id": "a321b10a-ed34-4173-8b57-94bdfc89414c",
   "metadata": {},
   "outputs": [],
   "source": [
    "# tap + Enter example "
   ]
  },
  {
   "cell_type": "code",
   "execution_count": 11,
   "id": "bfc7ebbd-c46f-4c0a-bfa4-06d8c3bdfeeb",
   "metadata": {},
   "outputs": [
    {
     "data": {
      "text/plain": [
       "pandas.core.series.Series"
      ]
     },
     "execution_count": 11,
     "metadata": {},
     "output_type": "execute_result"
    }
   ],
   "source": [
    "type(product_cat)"
   ]
  },
  {
   "cell_type": "code",
   "execution_count": 12,
   "id": "4a3618bd-0e41-40d4-b488-19590fcebd47",
   "metadata": {},
   "outputs": [],
   "source": [
    "# int64 ma'lumot yaratish"
   ]
  },
  {
   "cell_type": "code",
   "execution_count": 13,
   "id": "d817bb94-49f4-475b-86c4-6b5b1eeb9ad1",
   "metadata": {},
   "outputs": [],
   "source": [
    "dollors = pd.Series([20,30,40,50,60])"
   ]
  },
  {
   "cell_type": "code",
   "execution_count": 14,
   "id": "18777d02-fbbd-492e-a293-39244ec1cccd",
   "metadata": {},
   "outputs": [
    {
     "data": {
      "text/plain": [
       "0    20\n",
       "1    30\n",
       "2    40\n",
       "3    50\n",
       "4    60\n",
       "dtype: int64"
      ]
     },
     "execution_count": 14,
     "metadata": {},
     "output_type": "execute_result"
    }
   ],
   "source": [
    "dollors"
   ]
  },
  {
   "cell_type": "code",
   "execution_count": 15,
   "id": "d69d1e18-b032-464f-931f-c599701f7d8e",
   "metadata": {},
   "outputs": [],
   "source": [
    "# numpy array "
   ]
  },
  {
   "cell_type": "code",
   "execution_count": 16,
   "id": "ef1db3a4-3514-4780-ba94-138114ca0bd6",
   "metadata": {},
   "outputs": [],
   "source": [
    "import numpy as np"
   ]
  },
  {
   "cell_type": "code",
   "execution_count": 17,
   "id": "788c07a0-96a4-4971-8175-6d43be56c144",
   "metadata": {},
   "outputs": [],
   "source": [
    "array = np.array([10,20,30,40,50])"
   ]
  },
  {
   "cell_type": "code",
   "execution_count": 18,
   "id": "f6a22537-175b-4b47-abbf-fc74835c2fd2",
   "metadata": {},
   "outputs": [
    {
     "data": {
      "text/plain": [
       "array([10, 20, 30, 40, 50])"
      ]
     },
     "execution_count": 18,
     "metadata": {},
     "output_type": "execute_result"
    }
   ],
   "source": [
    "array"
   ]
  },
  {
   "cell_type": "code",
   "execution_count": 19,
   "id": "94d2e0d7-2c5f-44f8-84b0-c50c5aa0c2b7",
   "metadata": {},
   "outputs": [
    {
     "data": {
      "text/plain": [
       "numpy.ndarray"
      ]
     },
     "execution_count": 19,
     "metadata": {},
     "output_type": "execute_result"
    }
   ],
   "source": [
    "type(array)"
   ]
  },
  {
   "cell_type": "code",
   "execution_count": 20,
   "id": "f476f8b0-e74f-4f18-9a17-d3070bd64b2d",
   "metadata": {},
   "outputs": [],
   "source": [
    "# numpy array ni Series ga o'tkazish"
   ]
  },
  {
   "cell_type": "code",
   "execution_count": 21,
   "id": "e08dd8ec-5099-40a3-914e-8d016cdc3ce8",
   "metadata": {},
   "outputs": [],
   "source": [
    "pdSeries = pd.Series(array)"
   ]
  },
  {
   "cell_type": "code",
   "execution_count": 22,
   "id": "feaa0e2b-c4aa-4f78-9254-14799a8b700f",
   "metadata": {},
   "outputs": [
    {
     "data": {
      "text/plain": [
       "0    10\n",
       "1    20\n",
       "2    30\n",
       "3    40\n",
       "4    50\n",
       "dtype: int32"
      ]
     },
     "execution_count": 22,
     "metadata": {},
     "output_type": "execute_result"
    }
   ],
   "source": [
    "pdSeries"
   ]
  },
  {
   "cell_type": "code",
   "execution_count": 23,
   "id": "ee5c2f01-4785-4961-bde0-531eef7ec517",
   "metadata": {},
   "outputs": [
    {
     "data": {
      "text/plain": [
       "'\\nQuyidagi nomlarni o\\'z ichiga olishi kerak bo\\'lgan \"xodimlar_nomlari\" ro\\'yxatini yarating:\\n\\nEmi Uayt\\nJek Styuart\\nRichard Loderdeyl\\nSara Jonson\\n\\nIltimos, kerakli natijani chop etish uchun print() funksiyasidan foydalanishni unutmang.\\n'"
      ]
     },
     "execution_count": 23,
     "metadata": {},
     "output_type": "execute_result"
    }
   ],
   "source": [
    "\"\"\"\n",
    "Quyidagi nomlarni o'z ichiga olishi kerak bo'lgan \"xodimlar_nomlari\" ro'yxatini yarating:\n",
    "\n",
    "Emi Uayt\n",
    "Jek Styuart\n",
    "Richard Loderdeyl\n",
    "Sara Jonson\n",
    "\n",
    "Iltimos, kerakli natijani chop etish uchun print() funksiyasidan foydalanishni unutmang.\n",
    "\"\"\""
   ]
  },
  {
   "cell_type": "code",
   "execution_count": 24,
   "id": "2573f93f-35c8-4778-883f-fd7af281fb24",
   "metadata": {},
   "outputs": [],
   "source": [
    "xodim = [\"Emi Uayt\",\"Jek Styuart\",\"Richard Loderdeyl\",\"Sara Jonson\"]\n",
    "res = pd.Series(xodim)"
   ]
  },
  {
   "cell_type": "code",
   "execution_count": 25,
   "id": "fd745d20-52b4-413c-b269-8efa04b30c45",
   "metadata": {},
   "outputs": [
    {
     "data": {
      "text/plain": [
       "0             Emi Uayt\n",
       "1          Jek Styuart\n",
       "2    Richard Loderdeyl\n",
       "3          Sara Jonson\n",
       "dtype: object"
      ]
     },
     "execution_count": 25,
     "metadata": {},
     "output_type": "execute_result"
    }
   ],
   "source": [
    "res"
   ]
  },
  {
   "cell_type": "code",
   "execution_count": 26,
   "id": "196443ba-9eeb-4e08-a68e-cbfc25f77c07",
   "metadata": {},
   "outputs": [],
   "source": [
    "# res dagi malumotlarni values yani qiymatlarini chiqarish"
   ]
  },
  {
   "cell_type": "code",
   "execution_count": 27,
   "id": "a76bab25-43d8-4911-905a-c2aa754ba687",
   "metadata": {
    "ExecuteTime": {
     "end_time": "2023-12-27T21:50:21.301999400Z",
     "start_time": "2023-12-27T21:50:21.091399200Z"
    }
   },
   "outputs": [
    {
     "data": {
      "text/plain": [
       "array(['Emi Uayt', 'Jek Styuart', 'Richard Loderdeyl', 'Sara Jonson'],\n",
       "      dtype=object)"
      ]
     },
     "execution_count": 27,
     "metadata": {},
     "output_type": "execute_result"
    }
   ],
   "source": [
    "res.values"
   ]
  },
  {
   "cell_type": "code",
   "execution_count": 28,
   "id": "874a0936ed3172ab",
   "metadata": {
    "collapsed": false,
    "jupyter": {
     "outputs_hidden": false
    }
   },
   "outputs": [
    {
     "data": {
      "text/plain": [
       "<bound method IndexOpsMixin.to_numpy of 0             Emi Uayt\n",
       "1          Jek Styuart\n",
       "2    Richard Loderdeyl\n",
       "3          Sara Jonson\n",
       "dtype: object>"
      ]
     },
     "execution_count": 28,
     "metadata": {},
     "output_type": "execute_result"
    }
   ],
   "source": [
    "res.to_numpy"
   ]
  },
  {
   "cell_type": "code",
   "execution_count": 29,
   "id": "f9bc18af-be29-46b2-a031-8bdb9390e32b",
   "metadata": {},
   "outputs": [
    {
     "data": {
      "text/plain": [
       "pandas.core.series.Series"
      ]
     },
     "execution_count": 29,
     "metadata": {},
     "output_type": "execute_result"
    }
   ],
   "source": [
    "type(res)"
   ]
  },
  {
   "cell_type": "code",
   "execution_count": 31,
   "id": "be0c7a30-a2a2-4e36-9c5e-cb02d827675f",
   "metadata": {},
   "outputs": [
    {
     "data": {
      "text/plain": [
       "array(['Emi Uayt', 'Jek Styuart', 'Richard Loderdeyl', 'Sara Jonson'],\n",
       "      dtype=object)"
      ]
     },
     "execution_count": 31,
     "metadata": {},
     "output_type": "execute_result"
    }
   ],
   "source": [
    "res.values"
   ]
  },
  {
   "cell_type": "code",
   "execution_count": null,
   "id": "58247147-8444-4c48-be75-80a48e15c2ea",
   "metadata": {},
   "outputs": [],
   "source": [
    "# malumotlar qanchaligin ko'rish uchun"
   ]
  },
  {
   "cell_type": "code",
   "execution_count": 32,
   "id": "cadd86e3-f93e-4043-85ef-ab3b78baa65a",
   "metadata": {},
   "outputs": [],
   "source": [
    "count = res.size"
   ]
  },
  {
   "cell_type": "code",
   "execution_count": 33,
   "id": "ff11577a-8477-49d8-87cf-de63e69a7b33",
   "metadata": {},
   "outputs": [
    {
     "data": {
      "text/plain": [
       "4"
      ]
     },
     "execution_count": 33,
     "metadata": {},
     "output_type": "execute_result"
    }
   ],
   "source": [
    "count"
   ]
  },
  {
   "cell_type": "code",
   "execution_count": null,
   "id": "8d24a791-5e76-46d8-9a14-a6feb439fb7d",
   "metadata": {},
   "outputs": [],
   "source": []
  }
 ],
 "metadata": {
  "kernelspec": {
   "display_name": "Python 3 (ipykernel)",
   "language": "python",
   "name": "python3"
  },
  "language_info": {
   "codemirror_mode": {
    "name": "ipython",
    "version": 3
   },
   "file_extension": ".py",
   "mimetype": "text/x-python",
   "name": "python",
   "nbconvert_exporter": "python",
   "pygments_lexer": "ipython3",
   "version": "3.9.13"
  },
  "widgets": {
   "application/vnd.jupyter.widget-state+json": {
    "state": {},
    "version_major": 2,
    "version_minor": 0
   }
  }
 },
 "nbformat": 4,
 "nbformat_minor": 5
}
