{
 "cells": [
  {
   "cell_type": "code",
   "execution_count": 2,
   "id": "a105677a-49e4-4ddf-8878-2175cb9acae5",
   "metadata": {},
   "outputs": [],
   "source": [
    "import pandas as pd"
   ]
  },
  {
   "cell_type": "code",
   "execution_count": 3,
   "id": "285f4573-5507-4b92-acac-2f1abcc5c82f",
   "metadata": {},
   "outputs": [
    {
     "name": "stdout",
     "output_type": "stream",
     "text": [
      "2.1.4\n"
     ]
    }
   ],
   "source": [
    "print(pd.__version__)"
   ]
  },
  {
   "cell_type": "code",
   "execution_count": 4,
   "id": "a8d11c8d-bca2-45d1-8db2-a97be37c9372",
   "metadata": {},
   "outputs": [
    {
     "data": {
      "text/plain": [
       "['A', 'B', 'C', 'D']"
      ]
     },
     "execution_count": 4,
     "metadata": {},
     "output_type": "execute_result"
    }
   ],
   "source": [
    "products = ['A','B','C','D']\n",
    "products"
   ]
  },
  {
   "cell_type": "code",
   "execution_count": null,
   "id": "829a9439-8257-4d10-be5d-fe7b60519c3d",
   "metadata": {},
   "outputs": [],
   "source": [
    "# Ma'lumot turni tekshirish uchun"
   ]
  },
  {
   "cell_type": "code",
   "execution_count": 5,
   "id": "26abf583-7003-4bd2-a3c6-515a15cdbd94",
   "metadata": {},
   "outputs": [
    {
     "data": {
      "text/plain": [
       "list"
      ]
     },
     "execution_count": 5,
     "metadata": {},
     "output_type": "execute_result"
    }
   ],
   "source": [
    "type(products)"
   ]
  },
  {
   "cell_type": "code",
   "execution_count": null,
   "id": "abf66261-b42f-4028-b121-b696921155ca",
   "metadata": {},
   "outputs": [],
   "source": [
    "# Ma'lumot ni qataor series ga o'tkazish"
   ]
  },
  {
   "cell_type": "code",
   "execution_count": 7,
   "id": "3d2a61c0-8385-45ab-aa00-455fb142873e",
   "metadata": {},
   "outputs": [],
   "source": [
    "product_cat=pd.Series(products)"
   ]
  },
  {
   "cell_type": "code",
   "execution_count": 8,
   "id": "75bce936-785c-4333-b821-3effc1c2a66e",
   "metadata": {},
   "outputs": [
    {
     "data": {
      "text/plain": [
       "0    A\n",
       "1    B\n",
       "2    C\n",
       "3    D\n",
       "dtype: object"
      ]
     },
     "execution_count": 8,
     "metadata": {},
     "output_type": "execute_result"
    }
   ],
   "source": [
    "product_cat"
   ]
  },
  {
   "cell_type": "code",
   "execution_count": null,
   "id": "a321b10a-ed34-4173-8b57-94bdfc89414c",
   "metadata": {},
   "outputs": [],
   "source": []
  }
 ],
 "metadata": {
  "kernelspec": {
   "display_name": "Python 3 (ipykernel)",
   "language": "python",
   "name": "python3"
  },
  "language_info": {
   "codemirror_mode": {
    "name": "ipython",
    "version": 3
   },
   "file_extension": ".py",
   "mimetype": "text/x-python",
   "name": "python",
   "nbconvert_exporter": "python",
   "pygments_lexer": "ipython3",
   "version": "3.9.13"
  },
  "widgets": {
   "application/vnd.jupyter.widget-state+json": {
    "state": {},
    "version_major": 2,
    "version_minor": 0
   }
  }
 },
 "nbformat": 4,
 "nbformat_minor": 5
}
