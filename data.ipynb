{
 "cells": [
  {
   "cell_type": "code",
   "execution_count": 1,
   "id": "initial_id",
   "metadata": {},
   "outputs": [],
   "source": [
    "import pandas as pd"
   ]
  },
  {
   "cell_type": "code",
   "execution_count": null,
   "id": "c529e29f-1e41-4ba2-b6aa-84ca1a36d7d6",
   "metadata": {},
   "outputs": [],
   "source": [
    "data = {\n",
    "    \"7/4/2014\": 2000,\n",
    "    \"4/4/2012\": 2000,\n",
    "    \"3/4/2017\": 2000,\n",
    "    \"2/4/2011\": 2000,\n",
    "    \"8/4/2019\": 1000,\n",
    "    \"7/19/2021\": 2000,\n",
    "    \"5/15/2018\": 3000,\n",
    "    \"11/14/2009\": 2000,\n",
    "    \"2/15/2025\": 2400,\n",
    "    \"1/4/2013\": 2000,\n",
    "    \"9/25/2014\": 4000,\n",
    "    \"10/4/2019\": 2000,\n",
    "    \"7/4/2020\": 2000,\n",
    "    \"12/5/2014\": 2500,\n",
    "}"
   ]
  },
  {
   "cell_type": "code",
   "execution_count": null,
   "id": "ec408b1a-6891-47a5-a8f0-314ba5039392",
   "metadata": {},
   "outputs": [],
   "source": []
  }
 ],
 "metadata": {
  "kernelspec": {
   "display_name": "Python 3 (ipykernel)",
   "language": "python",
   "name": "python3"
  },
  "language_info": {
   "codemirror_mode": {
    "name": "ipython",
    "version": 3
   },
   "file_extension": ".py",
   "mimetype": "text/x-python",
   "name": "python",
   "nbconvert_exporter": "python",
   "pygments_lexer": "ipython3",
   "version": "3.9.13"
  },
  "widgets": {
   "application/vnd.jupyter.widget-state+json": {
    "state": {},
    "version_major": 2,
    "version_minor": 0
   }
  }
 },
 "nbformat": 4,
 "nbformat_minor": 5
}
