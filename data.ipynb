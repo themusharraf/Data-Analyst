{
 "cells": [
  {
   "cell_type": "code",
   "execution_count": 1,
   "id": "initial_id",
   "metadata": {},
   "outputs": [],
   "source": [
    "import pandas as pd"
   ]
  },
  {
   "cell_type": "code",
   "execution_count": 2,
   "id": "58f86c72-f6dc-47fd-94ee-88ebf4636fe2",
   "metadata": {},
   "outputs": [],
   "source": [
    "# data"
   ]
  },
  {
   "cell_type": "code",
   "execution_count": 3,
   "id": "c529e29f-1e41-4ba2-b6aa-84ca1a36d7d6",
   "metadata": {},
   "outputs": [],
   "source": [
    "data = {\n",
    "    \"7/4/2014\": 2000,\n",
    "    \"4/4/2012\": 2000,\n",
    "    \"3/4/2017\": 2000,\n",
    "    \"2/4/2011\": 2000,\n",
    "    \"8/4/2019\": 1000,\n",
    "    \"7/19/2021\": 2000,\n",
    "    \"5/15/2018\": 3000,\n",
    "    \"11/14/2009\": 2000,\n",
    "    \"2/15/2025\": 2400,\n",
    "    \"1/4/2013\": 2000,\n",
    "    \"9/25/2014\": 4000,\n",
    "    \"10/4/2019\": 2000,\n",
    "    \"7/4/2020\": 2000,\n",
    "    \"12/5/2014\": 2500,\n",
    "}"
   ]
  },
  {
   "cell_type": "code",
   "execution_count": 4,
   "id": "ec408b1a-6891-47a5-a8f0-314ba5039392",
   "metadata": {},
   "outputs": [],
   "source": [
    "start_date_deposits = pd.Series(data)"
   ]
  },
  {
   "cell_type": "code",
   "execution_count": 5,
   "id": "6ab0da49-0614-40f3-baa6-58f1ddb80f18",
   "metadata": {},
   "outputs": [
    {
     "data": {
      "text/plain": [
       "7/4/2014      2000\n",
       "4/4/2012      2000\n",
       "3/4/2017      2000\n",
       "2/4/2011      2000\n",
       "8/4/2019      1000\n",
       "7/19/2021     2000\n",
       "5/15/2018     3000\n",
       "11/14/2009    2000\n",
       "2/15/2025     2400\n",
       "1/4/2013      2000\n",
       "9/25/2014     4000\n",
       "10/4/2019     2000\n",
       "7/4/2020      2000\n",
       "12/5/2014     2500\n",
       "dtype: int64"
      ]
     },
     "execution_count": 5,
     "metadata": {},
     "output_type": "execute_result"
    }
   ],
   "source": [
    "start_date_deposits"
   ]
  },
  {
   "cell_type": "code",
   "execution_count": 6,
   "id": "69fadd40-5c02-48af-b3f4-8470674cd249",
   "metadata": {},
   "outputs": [],
   "source": [
    "# dataning yig'indsin chiqarish uchun"
   ]
  },
  {
   "cell_type": "code",
   "execution_count": 7,
   "id": "12c740ef-5ad5-4e1e-a277-591f1593bb5b",
   "metadata": {},
   "outputs": [
    {
     "data": {
      "text/plain": [
       "30900"
      ]
     },
     "execution_count": 7,
     "metadata": {},
     "output_type": "execute_result"
    }
   ],
   "source": [
    "start_date_deposits.sum()"
   ]
  },
  {
   "cell_type": "code",
   "execution_count": 8,
   "id": "aea9e88d-2f65-4a56-9144-d7b7aaf91f15",
   "metadata": {},
   "outputs": [],
   "source": [
    "# dataning max value chiqarish uchun"
   ]
  },
  {
   "cell_type": "code",
   "execution_count": 9,
   "id": "8072564b-7f1d-4663-b713-e9298fe1e26f",
   "metadata": {},
   "outputs": [
    {
     "data": {
      "text/plain": [
       "4000"
      ]
     },
     "execution_count": 9,
     "metadata": {},
     "output_type": "execute_result"
    }
   ],
   "source": [
    "start_date_deposits.max()"
   ]
  },
  {
   "cell_type": "code",
   "execution_count": 10,
   "id": "166d5ff1-d793-41dd-b50e-af1100b3f24e",
   "metadata": {},
   "outputs": [],
   "source": [
    "# dataning min value chiqarish uchun"
   ]
  },
  {
   "cell_type": "code",
   "execution_count": 11,
   "id": "8c68dc6b-3d59-4ba5-b7f9-c2b7e4f19e40",
   "metadata": {},
   "outputs": [
    {
     "data": {
      "text/plain": [
       "1000"
      ]
     },
     "execution_count": 11,
     "metadata": {},
     "output_type": "execute_result"
    }
   ],
   "source": [
    "start_date_deposits.min()"
   ]
  },
  {
   "cell_type": "code",
   "execution_count": 12,
   "id": "db568984-9ec3-46b3-9ca1-9d7e67bf37ec",
   "metadata": {},
   "outputs": [],
   "source": [
    "# dataning idmax  chiqarish uchun"
   ]
  },
  {
   "cell_type": "code",
   "execution_count": 15,
   "id": "19da52e3-3c6d-4f65-a14e-5b29f43fed84",
   "metadata": {},
   "outputs": [
    {
     "data": {
      "text/plain": [
       "'9/25/2014'"
      ]
     },
     "execution_count": 15,
     "metadata": {},
     "output_type": "execute_result"
    }
   ],
   "source": [
    "start_date_deposits.idxmax()"
   ]
  },
  {
   "cell_type": "code",
   "execution_count": null,
   "id": "ce469b21-6036-408d-a274-9eb909536026",
   "metadata": {},
   "outputs": [],
   "source": [
    "# dataning idmin  chiqarish uchun"
   ]
  },
  {
   "cell_type": "code",
   "execution_count": 16,
   "id": "297c3932-0b68-496b-8c81-3d4419fc446c",
   "metadata": {},
   "outputs": [
    {
     "data": {
      "text/plain": [
       "'8/4/2019'"
      ]
     },
     "execution_count": 16,
     "metadata": {},
     "output_type": "execute_result"
    }
   ],
   "source": [
    "start_date_deposits.idxmin()"
   ]
  },
  {
   "cell_type": "code",
   "execution_count": null,
   "id": "c88a1d5b-571d-4811-8e19-4e9969002e14",
   "metadata": {},
   "outputs": [],
   "source": [
    "# data ning boshidagi 5 datani chop etadi"
   ]
  },
  {
   "cell_type": "code",
   "execution_count": 17,
   "id": "e95cdf7c-5e0d-45eb-b41a-9f05c1f6993e",
   "metadata": {},
   "outputs": [
    {
     "data": {
      "text/plain": [
       "7/4/2014    2000\n",
       "4/4/2012    2000\n",
       "3/4/2017    2000\n",
       "2/4/2011    2000\n",
       "8/4/2019    1000\n",
       "dtype: int64"
      ]
     },
     "execution_count": 17,
     "metadata": {},
     "output_type": "execute_result"
    }
   ],
   "source": [
    "start_date_deposits.head() "
   ]
  },
  {
   "cell_type": "code",
   "execution_count": null,
   "id": "321ea1d8-5030-4aa0-b8dd-2948276218f0",
   "metadata": {},
   "outputs": [],
   "source": [
    "# data ning oxirdagi 5 datani chop etadi"
   ]
  },
  {
   "cell_type": "code",
   "execution_count": 19,
   "outputs": [
    {
     "data": {
      "text/plain": [
       "1/4/2013     2000\n",
       "9/25/2014    4000\n",
       "10/4/2019    2000\n",
       "7/4/2020     2000\n",
       "12/5/2014    2500\n",
       "dtype: int64"
      ]
     },
     "execution_count": 19,
     "metadata": {},
     "output_type": "execute_result"
    }
   ],
   "source": [
    "start_date_deposits.tail()"
   ],
   "metadata": {
    "collapsed": false
   },
   "id": "0930c3a4-b310-42d2-8adc-66ea7e60450b"
  },
  {
   "cell_type": "code",
   "execution_count": null,
   "outputs": [],
   "source": [
    "# Pandas Parameters vs Arguments "
   ],
   "metadata": {
    "collapsed": false
   },
   "id": "e3a6d01f21ee0fee"
  },
  {
   "cell_type": "code",
   "execution_count": null,
   "outputs": [],
   "source": [
    "# boshidan 3 ta ma'lumotni olish uchun # noqa "
   ],
   "metadata": {
    "collapsed": false
   },
   "id": "9aed1160ead764d6"
  },
  {
   "cell_type": "code",
   "execution_count": null,
   "outputs": [],
   "source": [
    "start_date_deposits.head(3) "
   ],
   "metadata": {
    "collapsed": false
   },
   "id": "484662a3-4c35-48fc-87e6-cd9f18f22653"
  },
  {
   "cell_type": "code",
   "execution_count": null,
   "outputs": [],
   "source": [
    "# oxiridan 3 ta ma'lumotni olish uchun # noqa"
   ],
   "metadata": {
    "collapsed": false
   },
   "id": "53b53b5e33648ca9"
  },
  {
   "cell_type": "code",
   "execution_count": null,
   "outputs": [],
   "source": [
    "start_date_deposits.tail(4)"
   ],
   "metadata": {
    "collapsed": false
   },
   "id": "14151922b7c6e3a5"
  },
  {
   "cell_type": "code",
   "execution_count": null,
   "outputs": [],
   "source": [],
   "metadata": {
    "collapsed": false
   },
   "id": "c01a73b9eaa94edf"
  }
 ],
 "metadata": {
  "kernelspec": {
   "display_name": "Python 3 (ipykernel)",
   "language": "python",
   "name": "python3"
  },
  "language_info": {
   "codemirror_mode": {
    "name": "ipython",
    "version": 3
   },
   "file_extension": ".py",
   "mimetype": "text/x-python",
   "name": "python",
   "nbconvert_exporter": "python",
   "pygments_lexer": "ipython3",
   "version": "3.9.13"
  },
  "widgets": {
   "application/vnd.jupyter.widget-state+json": {
    "state": {},
    "version_major": 2,
    "version_minor": 0
   }
  }
 },
 "nbformat": 4,
 "nbformat_minor": 5
}
